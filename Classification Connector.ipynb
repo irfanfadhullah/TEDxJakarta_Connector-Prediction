{
 "cells": [
  {
   "cell_type": "code",
   "execution_count": 1,
   "metadata": {},
   "outputs": [
    {
     "data": {
      "text/html": [
       "<div>\n",
       "<style scoped>\n",
       "    .dataframe tbody tr th:only-of-type {\n",
       "        vertical-align: middle;\n",
       "    }\n",
       "\n",
       "    .dataframe tbody tr th {\n",
       "        vertical-align: top;\n",
       "    }\n",
       "\n",
       "    .dataframe thead th {\n",
       "        text-align: right;\n",
       "    }\n",
       "</style>\n",
       "<table border=\"1\" class=\"dataframe\">\n",
       "  <thead>\n",
       "    <tr style=\"text-align: right;\">\n",
       "      <th></th>\n",
       "      <th>Nama Connector</th>\n",
       "      <th>Name</th>\n",
       "      <th>COnnector or Not</th>\n",
       "      <th>Gender</th>\n",
       "      <th>Following</th>\n",
       "      <th>Follower</th>\n",
       "      <th>Total Tweet</th>\n",
       "      <th>Pekerjaan</th>\n",
       "      <th>Career_Group</th>\n",
       "    </tr>\n",
       "  </thead>\n",
       "  <tbody>\n",
       "    <tr>\n",
       "      <td>0</td>\n",
       "      <td>waliwali1</td>\n",
       "      <td>Matthew Mendelsohn</td>\n",
       "      <td>1</td>\n",
       "      <td>M</td>\n",
       "      <td>630</td>\n",
       "      <td>1338</td>\n",
       "      <td>26,823</td>\n",
       "      <td>Writer</td>\n",
       "      <td>Writer</td>\n",
       "    </tr>\n",
       "    <tr>\n",
       "      <td>1</td>\n",
       "      <td>tracytrinita</td>\n",
       "      <td>Tracy Trinita</td>\n",
       "      <td>1</td>\n",
       "      <td>F</td>\n",
       "      <td>441</td>\n",
       "      <td>68,937</td>\n",
       "      <td>22,610</td>\n",
       "      <td>Blogger</td>\n",
       "      <td>Writer</td>\n",
       "    </tr>\n",
       "    <tr>\n",
       "      <td>2</td>\n",
       "      <td>tikabanget</td>\n",
       "      <td>Atika Nurkoestanti</td>\n",
       "      <td>1</td>\n",
       "      <td>F</td>\n",
       "      <td>953</td>\n",
       "      <td>22854</td>\n",
       "      <td>155741</td>\n",
       "      <td>Freelancer Sosmed Marketing, Blogger,</td>\n",
       "      <td>Writer</td>\n",
       "    </tr>\n",
       "    <tr>\n",
       "      <td>3</td>\n",
       "      <td>tentanghanny</td>\n",
       "      <td>Hanny</td>\n",
       "      <td>1</td>\n",
       "      <td>F</td>\n",
       "      <td>112</td>\n",
       "      <td>118</td>\n",
       "      <td>23078</td>\n",
       "      <td>Staff Kementrian Keuangan</td>\n",
       "      <td>Staff</td>\n",
       "    </tr>\n",
       "    <tr>\n",
       "      <td>4</td>\n",
       "      <td>sydsalesman</td>\n",
       "      <td>Syd Bangbiron</td>\n",
       "      <td>1</td>\n",
       "      <td>M</td>\n",
       "      <td>3878</td>\n",
       "      <td>6239</td>\n",
       "      <td>444,647</td>\n",
       "      <td>Salesman</td>\n",
       "      <td>Staff</td>\n",
       "    </tr>\n",
       "  </tbody>\n",
       "</table>\n",
       "</div>"
      ],
      "text/plain": [
       "  Nama Connector                Name  COnnector or Not Gender Following  \\\n",
       "0      waliwali1  Matthew Mendelsohn                 1      M       630   \n",
       "1   tracytrinita       Tracy Trinita                 1      F       441   \n",
       "2     tikabanget  Atika Nurkoestanti                 1      F       953   \n",
       "3   tentanghanny               Hanny                 1      F       112   \n",
       "4    sydsalesman       Syd Bangbiron                 1      M      3878   \n",
       "\n",
       "  Follower Total Tweet                               Pekerjaan Career_Group  \n",
       "0     1338      26,823                                  Writer       Writer  \n",
       "1   68,937      22,610                                 Blogger       Writer  \n",
       "2    22854      155741  Freelancer Sosmed Marketing, Blogger,        Writer  \n",
       "3      118       23078               Staff Kementrian Keuangan        Staff  \n",
       "4     6239     444,647                                Salesman        Staff  "
      ]
     },
     "execution_count": 1,
     "metadata": {},
     "output_type": "execute_result"
    }
   ],
   "source": [
    "import pandas as pd\n",
    "import matplotlib.pyplot as plt\n",
    "import seaborn as sns\n",
    "import numpy as np\n",
    "df=pd.read_csv('conn_profile3.csv')\n",
    "df.head()"
   ]
  },
  {
   "cell_type": "code",
   "execution_count": 2,
   "metadata": {},
   "outputs": [],
   "source": [
    "#df['Career_Group'] = df['Career_Group'].fillna(df['Career_Group'].mode()[0])"
   ]
  },
  {
   "cell_type": "code",
   "execution_count": 3,
   "metadata": {},
   "outputs": [],
   "source": [
    "#df['Total Mentions'] = df['Total Mentions'].apply(lambda x:1 if x >3 else 0)\n",
    "#df.tail()"
   ]
  },
  {
   "cell_type": "code",
   "execution_count": 4,
   "metadata": {},
   "outputs": [
    {
     "data": {
      "text/html": [
       "<div>\n",
       "<style scoped>\n",
       "    .dataframe tbody tr th:only-of-type {\n",
       "        vertical-align: middle;\n",
       "    }\n",
       "\n",
       "    .dataframe tbody tr th {\n",
       "        vertical-align: top;\n",
       "    }\n",
       "\n",
       "    .dataframe thead th {\n",
       "        text-align: right;\n",
       "    }\n",
       "</style>\n",
       "<table border=\"1\" class=\"dataframe\">\n",
       "  <thead>\n",
       "    <tr style=\"text-align: right;\">\n",
       "      <th></th>\n",
       "      <th>variable</th>\n",
       "      <th>missing values</th>\n",
       "      <th>filling factor (%)</th>\n",
       "    </tr>\n",
       "  </thead>\n",
       "  <tbody>\n",
       "    <tr>\n",
       "      <td>0</td>\n",
       "      <td>Pekerjaan</td>\n",
       "      <td>323</td>\n",
       "      <td>12.938005</td>\n",
       "    </tr>\n",
       "    <tr>\n",
       "      <td>1</td>\n",
       "      <td>Career_Group</td>\n",
       "      <td>323</td>\n",
       "      <td>12.938005</td>\n",
       "    </tr>\n",
       "    <tr>\n",
       "      <td>2</td>\n",
       "      <td>Name</td>\n",
       "      <td>167</td>\n",
       "      <td>54.986523</td>\n",
       "    </tr>\n",
       "    <tr>\n",
       "      <td>3</td>\n",
       "      <td>Gender</td>\n",
       "      <td>5</td>\n",
       "      <td>98.652291</td>\n",
       "    </tr>\n",
       "    <tr>\n",
       "      <td>4</td>\n",
       "      <td>Nama Connector</td>\n",
       "      <td>0</td>\n",
       "      <td>100.000000</td>\n",
       "    </tr>\n",
       "    <tr>\n",
       "      <td>5</td>\n",
       "      <td>COnnector or Not</td>\n",
       "      <td>0</td>\n",
       "      <td>100.000000</td>\n",
       "    </tr>\n",
       "    <tr>\n",
       "      <td>6</td>\n",
       "      <td>Following</td>\n",
       "      <td>0</td>\n",
       "      <td>100.000000</td>\n",
       "    </tr>\n",
       "    <tr>\n",
       "      <td>7</td>\n",
       "      <td>Follower</td>\n",
       "      <td>0</td>\n",
       "      <td>100.000000</td>\n",
       "    </tr>\n",
       "    <tr>\n",
       "      <td>8</td>\n",
       "      <td>Total Tweet</td>\n",
       "      <td>0</td>\n",
       "      <td>100.000000</td>\n",
       "    </tr>\n",
       "  </tbody>\n",
       "</table>\n",
       "</div>"
      ],
      "text/plain": [
       "           variable  missing values  filling factor (%)\n",
       "0         Pekerjaan             323           12.938005\n",
       "1      Career_Group             323           12.938005\n",
       "2              Name             167           54.986523\n",
       "3            Gender               5           98.652291\n",
       "4    Nama Connector               0          100.000000\n",
       "5  COnnector or Not               0          100.000000\n",
       "6         Following               0          100.000000\n",
       "7          Follower               0          100.000000\n",
       "8       Total Tweet               0          100.000000"
      ]
     },
     "execution_count": 4,
     "metadata": {},
     "output_type": "execute_result"
    }
   ],
   "source": [
    "missing_data = df.isnull().sum(axis=0).reset_index()\n",
    "missing_data.columns = ['variable', 'missing values']\n",
    "missing_data['filling factor (%)']=(df.shape[0]-missing_data['missing values'])/df.shape[0]*100\n",
    "missing_data.sort_values('filling factor (%)').reset_index(drop = True)"
   ]
  },
  {
   "cell_type": "code",
   "execution_count": 5,
   "metadata": {},
   "outputs": [
    {
     "data": {
      "text/html": [
       "<div>\n",
       "<style scoped>\n",
       "    .dataframe tbody tr th:only-of-type {\n",
       "        vertical-align: middle;\n",
       "    }\n",
       "\n",
       "    .dataframe tbody tr th {\n",
       "        vertical-align: top;\n",
       "    }\n",
       "\n",
       "    .dataframe thead th {\n",
       "        text-align: right;\n",
       "    }\n",
       "</style>\n",
       "<table border=\"1\" class=\"dataframe\">\n",
       "  <thead>\n",
       "    <tr style=\"text-align: right;\">\n",
       "      <th></th>\n",
       "      <th>COnnector or Not</th>\n",
       "      <th>Gender</th>\n",
       "      <th>Following</th>\n",
       "      <th>Follower</th>\n",
       "      <th>Total Tweet</th>\n",
       "    </tr>\n",
       "  </thead>\n",
       "  <tbody>\n",
       "    <tr>\n",
       "      <td>0</td>\n",
       "      <td>1</td>\n",
       "      <td>M</td>\n",
       "      <td>630</td>\n",
       "      <td>1338</td>\n",
       "      <td>26,823</td>\n",
       "    </tr>\n",
       "    <tr>\n",
       "      <td>1</td>\n",
       "      <td>1</td>\n",
       "      <td>F</td>\n",
       "      <td>441</td>\n",
       "      <td>68,937</td>\n",
       "      <td>22,610</td>\n",
       "    </tr>\n",
       "    <tr>\n",
       "      <td>2</td>\n",
       "      <td>1</td>\n",
       "      <td>F</td>\n",
       "      <td>953</td>\n",
       "      <td>22854</td>\n",
       "      <td>155741</td>\n",
       "    </tr>\n",
       "    <tr>\n",
       "      <td>3</td>\n",
       "      <td>1</td>\n",
       "      <td>F</td>\n",
       "      <td>112</td>\n",
       "      <td>118</td>\n",
       "      <td>23078</td>\n",
       "    </tr>\n",
       "    <tr>\n",
       "      <td>4</td>\n",
       "      <td>1</td>\n",
       "      <td>M</td>\n",
       "      <td>3878</td>\n",
       "      <td>6239</td>\n",
       "      <td>444,647</td>\n",
       "    </tr>\n",
       "  </tbody>\n",
       "</table>\n",
       "</div>"
      ],
      "text/plain": [
       "   COnnector or Not Gender Following Follower Total Tweet\n",
       "0                 1      M       630     1338      26,823\n",
       "1                 1      F       441   68,937      22,610\n",
       "2                 1      F       953    22854      155741\n",
       "3                 1      F       112      118       23078\n",
       "4                 1      M      3878     6239     444,647"
      ]
     },
     "execution_count": 5,
     "metadata": {},
     "output_type": "execute_result"
    }
   ],
   "source": [
    "df.drop(df[['Pekerjaan','Nama Connector','Name','Career_Group']],axis=1,inplace=True)\n",
    "df.head()"
   ]
  },
  {
   "cell_type": "code",
   "execution_count": 6,
   "metadata": {},
   "outputs": [
    {
     "data": {
      "text/html": [
       "<div>\n",
       "<style scoped>\n",
       "    .dataframe tbody tr th:only-of-type {\n",
       "        vertical-align: middle;\n",
       "    }\n",
       "\n",
       "    .dataframe tbody tr th {\n",
       "        vertical-align: top;\n",
       "    }\n",
       "\n",
       "    .dataframe thead th {\n",
       "        text-align: right;\n",
       "    }\n",
       "</style>\n",
       "<table border=\"1\" class=\"dataframe\">\n",
       "  <thead>\n",
       "    <tr style=\"text-align: right;\">\n",
       "      <th></th>\n",
       "      <th>COnnector or Not</th>\n",
       "      <th>Gender</th>\n",
       "      <th>Following</th>\n",
       "      <th>Follower</th>\n",
       "      <th>Total Tweet</th>\n",
       "    </tr>\n",
       "  </thead>\n",
       "  <tbody>\n",
       "    <tr>\n",
       "      <td>0</td>\n",
       "      <td>1</td>\n",
       "      <td>1</td>\n",
       "      <td>630</td>\n",
       "      <td>1338</td>\n",
       "      <td>26823</td>\n",
       "    </tr>\n",
       "    <tr>\n",
       "      <td>1</td>\n",
       "      <td>1</td>\n",
       "      <td>0</td>\n",
       "      <td>441</td>\n",
       "      <td>68937</td>\n",
       "      <td>22610</td>\n",
       "    </tr>\n",
       "    <tr>\n",
       "      <td>2</td>\n",
       "      <td>1</td>\n",
       "      <td>0</td>\n",
       "      <td>953</td>\n",
       "      <td>22854</td>\n",
       "      <td>155741</td>\n",
       "    </tr>\n",
       "    <tr>\n",
       "      <td>3</td>\n",
       "      <td>1</td>\n",
       "      <td>0</td>\n",
       "      <td>112</td>\n",
       "      <td>118</td>\n",
       "      <td>23078</td>\n",
       "    </tr>\n",
       "    <tr>\n",
       "      <td>4</td>\n",
       "      <td>1</td>\n",
       "      <td>1</td>\n",
       "      <td>3878</td>\n",
       "      <td>6239</td>\n",
       "      <td>444647</td>\n",
       "    </tr>\n",
       "  </tbody>\n",
       "</table>\n",
       "</div>"
      ],
      "text/plain": [
       "   COnnector or Not  Gender Following Follower Total Tweet\n",
       "0                 1       1       630     1338       26823\n",
       "1                 1       0       441    68937       22610\n",
       "2                 1       0       953    22854      155741\n",
       "3                 1       0       112      118       23078\n",
       "4                 1       1      3878     6239      444647"
      ]
     },
     "execution_count": 6,
     "metadata": {},
     "output_type": "execute_result"
    }
   ],
   "source": [
    "df['Gender']=df['Gender'].apply(lambda x:1 if x =='M' else 0)\n",
    "df['Follower']=df['Follower'].str.replace(\",\",\"\")\n",
    "df['Following']=df['Following'].str.replace(\",\",\"\")\n",
    "df['Total Tweet']=df['Total Tweet'].str.replace(\",\",\"\")\n",
    "df['Gender']=df['Gender'].fillna(df['Gender'].mode()[0])\n",
    "df.head()"
   ]
  },
  {
   "cell_type": "code",
   "execution_count": 7,
   "metadata": {},
   "outputs": [],
   "source": [
    "df['Gender']=df['Gender'].astype('int')\n",
    "df['Follower']=df['Follower'].astype('int')\n",
    "df['Following']=df['Following'].astype('int')\n",
    "df['Total Tweet']=df['Total Tweet'].astype('int')"
   ]
  },
  {
   "cell_type": "code",
   "execution_count": 8,
   "metadata": {},
   "outputs": [
    {
     "data": {
      "image/png": "[encoded data removed]",
      "text/plain": [
       "<Figure size 432x288 with 1 Axes>"
      ]
     },
     "metadata": {
      "needs_background": "light"
     },
     "output_type": "display_data"
    }
   ],
   "source": [
    "plt.scatter(y=df['Total Tweet'],x=df['Follower'])\n",
    "plt.show()"
   ]
  },
  {
   "cell_type": "code",
   "execution_count": 9,
   "metadata": {
    "scrolled": false
   },
   "outputs": [
    {
     "data": {
      "image/png": "[encoded data removed]",
      "text/plain": [
       "<Figure size 864x432 with 2 Axes>"
      ]
     },
     "metadata": {
      "needs_background": "light"
     },
     "output_type": "display_data"
    }
   ],
   "source": [
    "plt.figure(figsize=(12, 6))\n",
    "corr = df.apply(lambda x: pd.factorize(x)[0]).corr()\n",
    "ax = sns.heatmap(corr, xticklabels=corr.columns, yticklabels=corr.columns, \n",
    "                 linewidths=.2, cmap=\"YlGnBu\")"
   ]
  },
  {
   "cell_type": "code",
   "execution_count": 10,
   "metadata": {},
   "outputs": [
    {
     "data": {
      "text/html": [
       "<div>\n",
       "<style scoped>\n",
       "    .dataframe tbody tr th:only-of-type {\n",
       "        vertical-align: middle;\n",
       "    }\n",
       "\n",
       "    .dataframe tbody tr th {\n",
       "        vertical-align: top;\n",
       "    }\n",
       "\n",
       "    .dataframe thead th {\n",
       "        text-align: right;\n",
       "    }\n",
       "</style>\n",
       "<table border=\"1\" class=\"dataframe\">\n",
       "  <thead>\n",
       "    <tr style=\"text-align: right;\">\n",
       "      <th></th>\n",
       "      <th>COnnector or Not</th>\n",
       "      <th>Gender</th>\n",
       "      <th>Following</th>\n",
       "      <th>Follower</th>\n",
       "      <th>Total Tweet</th>\n",
       "    </tr>\n",
       "  </thead>\n",
       "  <tbody>\n",
       "    <tr>\n",
       "      <td>COnnector or Not</td>\n",
       "      <td>1.000000</td>\n",
       "      <td>-0.033954</td>\n",
       "      <td>0.307254</td>\n",
       "      <td>0.324823</td>\n",
       "      <td>0.350580</td>\n",
       "    </tr>\n",
       "    <tr>\n",
       "      <td>Gender</td>\n",
       "      <td>-0.033954</td>\n",
       "      <td>1.000000</td>\n",
       "      <td>-0.094008</td>\n",
       "      <td>-0.130024</td>\n",
       "      <td>-0.103740</td>\n",
       "    </tr>\n",
       "    <tr>\n",
       "      <td>Following</td>\n",
       "      <td>0.307254</td>\n",
       "      <td>-0.094008</td>\n",
       "      <td>1.000000</td>\n",
       "      <td>0.780593</td>\n",
       "      <td>0.851027</td>\n",
       "    </tr>\n",
       "    <tr>\n",
       "      <td>Follower</td>\n",
       "      <td>0.324823</td>\n",
       "      <td>-0.130024</td>\n",
       "      <td>0.780593</td>\n",
       "      <td>1.000000</td>\n",
       "      <td>0.912587</td>\n",
       "    </tr>\n",
       "    <tr>\n",
       "      <td>Total Tweet</td>\n",
       "      <td>0.350580</td>\n",
       "      <td>-0.103740</td>\n",
       "      <td>0.851027</td>\n",
       "      <td>0.912587</td>\n",
       "      <td>1.000000</td>\n",
       "    </tr>\n",
       "  </tbody>\n",
       "</table>\n",
       "</div>"
      ],
      "text/plain": [
       "                  COnnector or Not    Gender  Following  Follower  Total Tweet\n",
       "COnnector or Not          1.000000 -0.033954   0.307254  0.324823     0.350580\n",
       "Gender                   -0.033954  1.000000  -0.094008 -0.130024    -0.103740\n",
       "Following                 0.307254 -0.094008   1.000000  0.780593     0.851027\n",
       "Follower                  0.324823 -0.130024   0.780593  1.000000     0.912587\n",
       "Total Tweet               0.350580 -0.103740   0.851027  0.912587     1.000000"
      ]
     },
     "execution_count": 10,
     "metadata": {},
     "output_type": "execute_result"
    }
   ],
   "source": [
    "corr"
   ]
  },
  {
   "cell_type": "markdown",
   "metadata": {},
   "source": [
    "## Preprocessing Data"
   ]
  },
  {
   "cell_type": "code",
   "execution_count": 11,
   "metadata": {},
   "outputs": [],
   "source": [
    "from sklearn.preprocessing import scale\n",
    "#df['Gender']=scale(df['Gender'])\n",
    "#df['Following']=scale(df['Following'])\n",
    "#df['Follower']=scale(df['Follower'])\n",
    "#df['Total Tweet']=scale(df['Total Tweet'])\n",
    "#Memilih colom sebagai label\n",
    "y = df['COnnector or Not']\n",
    "#Mendrop colom\n",
    "new_df = df.drop([\"COnnector or Not\"],axis=1)\n",
    "\n",
    "#Menormalisasi data menjadi 0-1\n",
    "x =new_df"
   ]
  },
  {
   "cell_type": "code",
   "execution_count": 12,
   "metadata": {},
   "outputs": [],
   "source": [
    "#Resample atau upsampling menggunakan SMOTE"
   ]
  },
  {
   "cell_type": "code",
   "execution_count": 13,
   "metadata": {
    "scrolled": true
   },
   "outputs": [],
   "source": [
    "#!pip install imbalanced_learn"
   ]
  },
  {
   "cell_type": "code",
   "execution_count": 14,
   "metadata": {},
   "outputs": [
    {
     "name": "stdout",
     "output_type": "stream",
     "text": [
      "Counter({0: 314, 1: 57})\n"
     ]
    }
   ],
   "source": [
    "#CEK Imbalanced Data Label (y)\n",
    "from collections import Counter\n",
    "\n",
    "counter = Counter(y)\n",
    "print(counter)"
   ]
  },
  {
   "cell_type": "code",
   "execution_count": 15,
   "metadata": {},
   "outputs": [
    {
     "name": "stdout",
     "output_type": "stream",
     "text": [
      "Estimate: 5.509\n"
     ]
    }
   ],
   "source": [
    "estimate = counter[0] / counter[1]\n",
    "print('Estimate: %.3f' % estimate)"
   ]
  },
  {
   "cell_type": "code",
   "execution_count": 16,
   "metadata": {},
   "outputs": [],
   "source": [
    "from imblearn.over_sampling import SMOTE\n",
    "oversample = SMOTE()\n",
    "x, y = oversample.fit_resample(x, y)"
   ]
  },
  {
   "cell_type": "code",
   "execution_count": 17,
   "metadata": {},
   "outputs": [
    {
     "name": "stdout",
     "output_type": "stream",
     "text": [
      "Counter({1: 314, 0: 314})\n"
     ]
    }
   ],
   "source": [
    "\n",
    "counter = Counter(y)\n",
    "print(counter)"
   ]
  },
  {
   "cell_type": "code",
   "execution_count": 18,
   "metadata": {},
   "outputs": [
    {
     "name": "stderr",
     "output_type": "stream",
     "text": [
      "C:\\Users\\irfanfadhullah\\AppData\\Local\\Continuum\\anaconda3\\lib\\site-packages\\ipykernel_launcher.py:4: FutureWarning: Method .as_matrix will be removed in a future version. Use .values instead.\n",
      "  after removing the cwd from sys.path.\n",
      "C:\\Users\\irfanfadhullah\\AppData\\Local\\Continuum\\anaconda3\\lib\\site-packages\\ipykernel_launcher.py:5: FutureWarning: Method .as_matrix will be removed in a future version. Use .values instead.\n",
      "  \"\"\"\n",
      "C:\\Users\\irfanfadhullah\\AppData\\Local\\Continuum\\anaconda3\\lib\\site-packages\\ipykernel_launcher.py:6: FutureWarning: Method .as_matrix will be removed in a future version. Use .values instead.\n",
      "  \n",
      "C:\\Users\\irfanfadhullah\\AppData\\Local\\Continuum\\anaconda3\\lib\\site-packages\\ipykernel_launcher.py:7: FutureWarning: Method .as_matrix will be removed in a future version. Use .values instead.\n",
      "  import sys\n"
     ]
    }
   ],
   "source": [
    "#Membagi data menjadi data train dan data test\n",
    "from sklearn.model_selection import train_test_split\n",
    "x_train, x_test, y_train, y_test = train_test_split(x, y, test_size=0.20,random_state =1)\n",
    "x_train=x_train.as_matrix()\n",
    "y_train=y_train.as_matrix()\n",
    "x_test=x_test.as_matrix()\n",
    "y_test=y_test.as_matrix()"
   ]
  },
  {
   "cell_type": "markdown",
   "metadata": {},
   "source": [
    "## Modeling Classification"
   ]
  },
  {
   "cell_type": "code",
   "execution_count": 19,
   "metadata": {},
   "outputs": [
    {
     "name": "stdout",
     "output_type": "stream",
     "text": [
      "[09:35:38] WARNING: C:\\Users\\Administrator\\workspace\\xgboost-win64_release_1.1.0\\src\\learner.cc:480: \n",
      "Parameters: { silent } might not be used.\n",
      "\n",
      "  This may not be accurate due to some parameters are only used in language bindings but\n",
      "  passed down to XGBoost core.  Or some parameters are not used but slip through this\n",
      "  verification. Please open an issue if you find above cases.\n",
      "\n",
      "\n"
     ]
    },
    {
     "data": {
      "text/plain": [
       "XGBClassifier(base_score=0.5, booster='gbtree', colsample_bylevel=1,\n",
       "              colsample_bynode=1, colsample_bytree=1, gamma=0.01, gpu_id=-1,\n",
       "              importance_type='gain', interaction_constraints='',\n",
       "              learning_rate=0.5, max_delta_step=0, max_depth=5,\n",
       "              min_child_weight=5, missing=None, monotone_constraints='()',\n",
       "              n_estimators=4, n_jobs=1, nthread=1, num_parallel_tree=1,\n",
       "              objective='binary:logistic', random_state=0, reg_alpha=0,\n",
       "              reg_lambda=1, scale_pos_weight=1, seed=0, silent=True,\n",
       "              subsample=1, tree_method='exact', validate_parameters=1,\n",
       "              verbosity=None)"
      ]
     },
     "execution_count": 19,
     "metadata": {},
     "output_type": "execute_result"
    }
   ],
   "source": [
    "#!pip install --upgrade scikit-learn\n",
    "#XGB Classifier\n",
    "from xgboost import XGBClassifier\n",
    "XGB = XGBClassifier(base_score=0.5,booster='gbtree', colsample_bylevel=1,colsample_bytree=1, gamma=0.01, learning_rate=0.5, max_delta_step=0,max_depth=5,\n",
    "                    min_child_weight=5, missing=None, n_estimators=4,n_jobs=1, nthread=None, objective='binary:logistic', random_state=0,reg_alpha=0, \n",
    "                    reg_lambda=1, scale_pos_weight=1, seed=None, silent=True, subsample=1)\n",
    "XGB.fit(x_train,y_train)"
   ]
  },
  {
   "cell_type": "code",
   "execution_count": 20,
   "metadata": {},
   "outputs": [
    {
     "data": {
      "image/png": "[encoded data removed]",
      "text/plain": [
       "<Figure size 432x288 with 1 Axes>"
      ]
     },
     "metadata": {
      "needs_background": "light"
     },
     "output_type": "display_data"
    },
    {
     "name": "stdout",
     "output_type": "stream",
     "text": [
      "[0.8954545454545455, 0.8795454545454546, 0.8946969696969697, 0.918939393939394, 0.9030303030303031, 0.9106060606060606]\n"
     ]
    }
   ],
   "source": [
    "from sklearn.metrics import roc_curve, auc\n",
    "\n",
    "learning_rates = [1, 0.5, 0.25, 0.1, 0.05, 0.01]\n",
    "train_results = []\n",
    "test_results = []\n",
    "for eta in learning_rates:\n",
    "    model = XGBClassifier(learning_rate=eta)\n",
    "    model.fit(x_train, y_train)   \n",
    "    train_pred = model.predict(x_train)   \n",
    "    false_positive_rate, true_positive_rate, thresholds = roc_curve(y_train, train_pred)\n",
    "    roc_auc = auc(false_positive_rate, true_positive_rate)\n",
    "    train_results.append(roc_auc)   \n",
    "    y_pred = model.predict(x_test)   \n",
    "    false_positive_rate, true_positive_rate, thresholds = roc_curve(y_test, y_pred)\n",
    "    roc_auc = auc(false_positive_rate, true_positive_rate)\n",
    "    test_results.append(roc_auc)\n",
    "from matplotlib.legend_handler import HandlerLine2D\n",
    "line1, = plt.plot(learning_rates, train_results, 'b', label=\"Train AUC\")\n",
    "line2, = plt.plot(learning_rates, test_results, 'r', label=\"Test AUC\")\n",
    "plt.legend(handler_map={line1: HandlerLine2D(numpoints=2)})\n",
    "plt.ylabel('AUC score')\n",
    "plt.xlabel('learning rate')\n",
    "plt.show()\n",
    "print(test_results)"
   ]
  },
  {
   "cell_type": "code",
   "execution_count": 21,
   "metadata": {
    "scrolled": true
   },
   "outputs": [
    {
     "data": {
      "image/png": "[encoded data removed]",
      "text/plain": [
       "<Figure size 432x288 with 1 Axes>"
      ]
     },
     "metadata": {
      "needs_background": "light"
     },
     "output_type": "display_data"
    },
    {
     "name": "stdout",
     "output_type": "stream",
     "text": [
      "[0.9030303030303031, 0.9106060606060606, 0.9030303030303031, 0.9106060606060606, 0.893939393939394, 0.9106060606060606, 0.9030303030303031, 0.9022727272727273, 0.9106060606060606]\n"
     ]
    }
   ],
   "source": [
    "n_estimators = [1, 2, 4, 8, 16, 32, 64, 100, 200]\n",
    "train_results = []\n",
    "test_results = []\n",
    "for estimator in n_estimators:\n",
    "    model = XGBClassifier(n_estimators=estimator)\n",
    "    model.fit(x_train, y_train)   \n",
    "    train_pred = model.predict(x_train)   \n",
    "    false_positive_rate, true_positive_rate, thresholds = roc_curve(y_train, train_pred)\n",
    "    roc_auc = auc(false_positive_rate, true_positive_rate)\n",
    "    train_results.append(roc_auc)   \n",
    "    y_pred = model.predict(x_test)   \n",
    "    false_positive_rate, true_positive_rate, thresholds = roc_curve(y_test, y_pred)\n",
    "    roc_auc = auc(false_positive_rate, true_positive_rate)\n",
    "    test_results.append(roc_auc)\n",
    "from matplotlib.legend_handler import HandlerLine2D\n",
    "line1, = plt.plot(n_estimators, train_results, 'b', label=\"Train AUC\")\n",
    "line2, = plt.plot(n_estimators, test_results, 'r', label=\"Test AUC\")\n",
    "plt.legend(handler_map={line1: HandlerLine2D(numpoints=2)})\n",
    "plt.ylabel('AUC score')\n",
    "plt.xlabel('n_estimators')\n",
    "plt.show()\n",
    "print(test_results)"
   ]
  },
  {
   "cell_type": "code",
   "execution_count": 22,
   "metadata": {},
   "outputs": [
    {
     "data": {
      "image/png": "[encoded data removed]",
      "text/plain": [
       "<Figure size 432x288 with 1 Axes>"
      ]
     },
     "metadata": {
      "needs_background": "light"
     },
     "output_type": "display_data"
    },
    {
     "name": "stdout",
     "output_type": "stream",
     "text": [
      "[ 1.  2.  3.  4.  5.  6.  7.  8.  9. 10. 11. 12. 13. 14. 15. 16. 17. 18.\n",
      " 19. 20. 21. 22. 23. 24. 25. 26. 27. 28. 29. 30. 31. 32.] [0.8545454545454546, 0.8856060606060606, 0.9196969696969698, 0.918939393939394, 0.9030303030303031, 0.9022727272727273, 0.9037878787878788, 0.9113636363636364, 0.9030303030303031, 0.9113636363636364, 0.893939393939394, 0.8954545454545455, 0.9106060606060606, 0.9106060606060606, 0.9106060606060606, 0.9106060606060606, 0.9106060606060606, 0.9106060606060606, 0.9106060606060606, 0.9106060606060606, 0.9106060606060606, 0.9106060606060606, 0.9106060606060606, 0.9106060606060606, 0.9106060606060606, 0.9106060606060606, 0.9106060606060606, 0.9106060606060606, 0.9106060606060606, 0.9106060606060606, 0.9106060606060606, 0.9106060606060606]\n"
     ]
    }
   ],
   "source": [
    "max_depths = np.linspace(1, 32, 32, endpoint=True)\n",
    "train_results = []\n",
    "test_results = []\n",
    "for max_depth in max_depths:\n",
    "    model = XGBClassifier(max_depth=max_depth.astype('int'))\n",
    "    model.fit(x_train, y_train)   \n",
    "    train_pred = model.predict(x_train)   \n",
    "    false_positive_rate, true_positive_rate, thresholds = roc_curve(y_train, train_pred)\n",
    "    roc_auc = auc(false_positive_rate, true_positive_rate)\n",
    "    train_results.append(roc_auc)   \n",
    "    y_pred = model.predict(x_test)   \n",
    "    false_positive_rate, true_positive_rate, thresholds = roc_curve(y_test, y_pred)\n",
    "    roc_auc = auc(false_positive_rate, true_positive_rate)\n",
    "    test_results.append(roc_auc)\n",
    "from matplotlib.legend_handler import HandlerLine2D\n",
    "line1, = plt.plot(max_depths, train_results, 'b', label='Train AUC')\n",
    "line2, = plt.plot(max_depths, test_results, 'r', label='Test AUC')\n",
    "plt.legend(handler_map={line1: HandlerLine2D(numpoints=2)})\n",
    "plt.ylabel('AUC score')\n",
    "plt.xlabel('Tree depth')\n",
    "plt.show()\n",
    "print(max_depths,test_results)"
   ]
  },
  {
   "cell_type": "code",
   "execution_count": 23,
   "metadata": {},
   "outputs": [],
   "source": [
    "# the function that prints all scores\n",
    "from sklearn.metrics import precision_score, recall_score, confusion_matrix, classification_report, accuracy_score, f1_score\n",
    "def print_scores(headline, y_true, y_pred):\n",
    "    print(headline)\n",
    "    acc_score = accuracy_score(y_true, y_pred)\n",
    "    print(\"accuracy: \",acc_score)\n",
    "    pre_score = precision_score(y_true, y_pred)\n",
    "    print(\"precision: \",pre_score)\n",
    "    rec_score = recall_score(y_true, y_pred)                            \n",
    "    print(\"recall: \",rec_score)\n",
    "    f_score = f1_score(y_true, y_pred, average='weighted')\n",
    "    print(\"f1_score: \",f_score)"
   ]
  },
  {
   "cell_type": "code",
   "execution_count": null,
   "metadata": {},
   "outputs": [],
   "source": []
  },
  {
   "cell_type": "code",
   "execution_count": 24,
   "metadata": {},
   "outputs": [
    {
     "data": {
      "text/plain": [
       "array([[51,  9],\n",
       "       [ 3, 63]], dtype=int64)"
      ]
     },
     "execution_count": 24,
     "metadata": {},
     "output_type": "execute_result"
    }
   ],
   "source": [
    "y_pred = XGB.predict(x_test)\n",
    "results = confusion_matrix(y_test, y_pred)\n",
    "results"
   ]
  },
  {
   "cell_type": "code",
   "execution_count": 25,
   "metadata": {},
   "outputs": [
    {
     "name": "stdout",
     "output_type": "stream",
     "text": [
      "[1 0 0 0 1 1 0 1 0 0 0 0 1 0 0 0 0 0 1 1 0 1 0 0 1 1 0 1 1 1 0 1 0 0 0 0 1\n",
      " 0 1 0 0 1 0 1 1 0 1 1 1 0 0 0 1 1 1 1 0 1 1 1 1 1 1 1 1 0 0 1 1 1 0 1 1 0\n",
      " 1 1 1 0 0 0 0 0 1 0 0 1 1 1 0 1 0 0 1 0 1 0 1 0 1 1 0 0 1 0 1 1 1 0 1 0 1\n",
      " 1 0 1 1 1 1 1 0 0 0 0 0 0 1 1]\n",
      "[1 0 0 0 1 1 0 1 0 0 1 0 1 0 0 0 0 1 1 1 0 1 0 0 1 1 0 1 1 1 0 1 0 0 0 1 1\n",
      " 0 1 0 0 1 0 1 1 0 1 1 1 0 1 0 1 1 1 1 0 0 1 1 1 1 1 1 1 0 0 1 1 1 0 1 0 1\n",
      " 1 1 1 0 0 1 0 0 1 0 1 1 0 1 0 1 0 1 1 0 1 0 1 1 1 1 0 0 1 0 1 1 1 0 1 0 1\n",
      " 1 0 1 1 1 1 1 0 0 0 0 0 0 1 1]\n"
     ]
    }
   ],
   "source": [
    "print(y_test)\n",
    "print(y_pred)"
   ]
  },
  {
   "cell_type": "code",
   "execution_count": 26,
   "metadata": {},
   "outputs": [
    {
     "name": "stdout",
     "output_type": "stream",
     "text": [
      "              precision    recall  f1-score   support\n",
      "\n",
      "           0       0.94      0.85      0.89        60\n",
      "           1       0.88      0.95      0.91        66\n",
      "\n",
      "    accuracy                           0.90       126\n",
      "   macro avg       0.91      0.90      0.90       126\n",
      "weighted avg       0.91      0.90      0.90       126\n",
      "\n"
     ]
    }
   ],
   "source": [
    "report_xgb = classification_report(y_test, XGB.predict(x_test))\n",
    "print(report_xgb)"
   ]
  },
  {
   "cell_type": "code",
   "execution_count": 27,
   "metadata": {},
   "outputs": [],
   "source": [
    "y_pred_xgb = XGB.predict(x_test)\n",
    "\n",
    "fpr, tpr, _ = roc_curve(y_test, y_pred_xgb)\n",
    "roc_auc = auc(fpr, tpr)"
   ]
  },
  {
   "cell_type": "code",
   "execution_count": 28,
   "metadata": {
    "scrolled": true
   },
   "outputs": [
    {
     "data": {
      "image/png": "[encoded data removed]",
      "text/plain": [
       "<Figure size 432x288 with 1 Axes>"
      ]
     },
     "metadata": {
      "needs_background": "light"
     },
     "output_type": "display_data"
    }
   ],
   "source": [
    "plt.figure()\n",
    "lw = 2\n",
    "plt.plot(fpr, tpr, color='darkorange',\n",
    "         lw=lw, label='ROC curve (area = %0.2f)' % roc_auc)\n",
    "plt.plot([0, 1], [0, 1], color='navy', lw=lw, linestyle='--')\n",
    "plt.xlim([0.0, 1.0])\n",
    "plt.ylim([0.0, 1.05])\n",
    "plt.xlabel('False Positive Rate')\n",
    "plt.ylabel('True Positive Rate')\n",
    "plt.title('ROC for XGB')\n",
    "plt.legend(loc=\"lower right\")\n",
    "plt.show()"
   ]
  },
  {
   "cell_type": "code",
   "execution_count": 29,
   "metadata": {},
   "outputs": [
    {
     "data": {
      "text/plain": [
       "[(0.21499151,), (0.1050406,), (0.20869985,), (0.47126803,)]"
      ]
     },
     "execution_count": 29,
     "metadata": {},
     "output_type": "execute_result"
    }
   ],
   "source": [
    "list(zip(XGB.feature_importances_))"
   ]
  },
  {
   "cell_type": "markdown",
   "metadata": {},
   "source": [
    "## Save model"
   ]
  },
  {
   "cell_type": "code",
   "execution_count": 30,
   "metadata": {},
   "outputs": [
    {
     "data": {
      "text/plain": [
       "['model.pickle']"
      ]
     },
     "execution_count": 30,
     "metadata": {},
     "output_type": "execute_result"
    }
   ],
   "source": [
    "import joblib\n",
    "joblib.dump(model, \"model.pickle\")"
   ]
  },
  {
   "cell_type": "code",
   "execution_count": 56,
   "metadata": {},
   "outputs": [
    {
     "name": "stdout",
     "output_type": "stream",
     "text": [
      "Non Connector\n"
     ]
    }
   ],
   "source": [
    "import joblib\n",
    "from sklearn.preprocessing import scale\n",
    "model = joblib.load(\"model.pickle\")\n",
    "baru=np.array([1, 674, 224,29234]).reshape((1,-1))\n",
    "x_new = model.predict(baru)\n",
    "print(\"Connector\") if x_new ==1 else print(\"Non Connector\")"
   ]
  },
  {
   "cell_type": "code",
   "execution_count": null,
   "metadata": {},
   "outputs": [],
   "source": []
  },
  {
   "cell_type": "code",
   "execution_count": null,
   "metadata": {},
   "outputs": [],
   "source": []
  },
  {
   "cell_type": "code",
   "execution_count": null,
   "metadata": {},
   "outputs": [],
   "source": []
  },
  {
   "cell_type": "code",
   "execution_count": null,
   "metadata": {},
   "outputs": [],
   "source": []
  },
  {
   "cell_type": "code",
   "execution_count": null,
   "metadata": {},
   "outputs": [],
   "source": []
  },
  {
   "cell_type": "code",
   "execution_count": null,
   "metadata": {},
   "outputs": [],
   "source": []
  },
  {
   "cell_type": "code",
   "execution_count": null,
   "metadata": {},
   "outputs": [],
   "source": []
  },
  {
   "cell_type": "code",
   "execution_count": null,
   "metadata": {},
   "outputs": [],
   "source": []
  }
 ],
 "metadata": {
  "kernelspec": {
   "display_name": "Python 3",
   "language": "python",
   "name": "python3"
  },
  "language_info": {
   "codemirror_mode": {
    "name": "ipython",
    "version": 3
   },
   "file_extension": ".py",
   "mimetype": "text/x-python",
   "name": "python",
   "nbconvert_exporter": "python",
   "pygments_lexer": "ipython3",
   "version": "3.7.4"
  }
 },
 "nbformat": 4,
 "nbformat_minor": 2
}
